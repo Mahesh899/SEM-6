{
 "cells": [
  {
   "cell_type": "code",
   "execution_count": 7,
   "id": "d7b2efe4",
   "metadata": {},
   "outputs": [
    {
     "name": "stdout",
     "output_type": "stream",
     "text": [
      "Minimum Spanning Tree:\n",
      "Edge: (0, 1) Weight: 2\n",
      "Edge: (1, 2) Weight: 3\n",
      "Edge: (0, 3) Weight: 6\n",
      "Edge: (1, 4) Weight: 5\n"
     ]
    }
   ],
   "source": [
    "import sys\n",
    "\n",
    "def min_key(key, mst_set):\n",
    "    min_val = sys.maxsize\n",
    "    min_index = None\n",
    "    for v in range(len(key)):\n",
    "        if key[v] < min_val and not mst_set[v]:\n",
    "            min_val = key[v]\n",
    "            min_index = v\n",
    "    return min_index\n",
    "\n",
    "def prim_mst(graph):\n",
    "    vertices = len(graph)\n",
    "    key = [sys.maxsize] * vertices\n",
    "    parent = [None] * vertices\n",
    "    mst_set = [False] * vertices\n",
    "\n",
    "    key[0] = 0  # Start from vertex 0\n",
    "\n",
    "    for _ in range(vertices):\n",
    "        u = min_key(key, mst_set)\n",
    "        mst_set[u] = True\n",
    "\n",
    "        for v in range(vertices):\n",
    "            if graph[u][v] > 0 and not mst_set[v] and graph[u][v] < key[v]:\n",
    "                parent[v] = u\n",
    "                key[v] = graph[u][v]\n",
    "\n",
    "    mst = []\n",
    "    for v in range(1, vertices):  # Start from index 1 to skip the starting vertex\n",
    "        mst.append((parent[v], v, graph[v][parent[v]]))\n",
    "\n",
    "    return mst\n",
    "\n",
    "# Example usage:\n",
    "graph = [\n",
    "    [0, 2, 0, 6, 0],\n",
    "    [2, 0, 3, 8, 5],\n",
    "    [0, 3, 0, 0, 7],\n",
    "    [6, 8, 0, 0, 9],\n",
    "    [0, 5, 7, 9, 0]\n",
    "]\n",
    "\n",
    "mst = prim_mst(graph)\n",
    "print(\"Minimum Spanning Tree:\")\n",
    "for edge in mst:\n",
    "    print(\"Edge: ({}, {}) Weight: {}\".format(edge[0], edge[1], edge[2]))"
   ]
  },
  {
   "cell_type": "code",
   "execution_count": null,
   "id": "5c95db89",
   "metadata": {},
   "outputs": [],
   "source": []
  }
 ],
 "metadata": {
  "kernelspec": {
   "display_name": "Python 3 (ipykernel)",
   "language": "python",
   "name": "python3"
  },
  "language_info": {
   "codemirror_mode": {
    "name": "ipython",
    "version": 3
   },
   "file_extension": ".py",
   "mimetype": "text/x-python",
   "name": "python",
   "nbconvert_exporter": "python",
   "pygments_lexer": "ipython3",
   "version": "3.11.5"
  }
 },
 "nbformat": 4,
 "nbformat_minor": 5
}
