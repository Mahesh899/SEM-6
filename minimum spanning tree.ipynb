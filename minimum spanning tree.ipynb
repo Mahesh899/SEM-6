{
 "cells": [
  {
   "cell_type": "code",
   "execution_count": 5,
   "id": "46318ba7",
   "metadata": {},
   "outputs": [
    {
     "name": "stdout",
     "output_type": "stream",
     "text": [
      "Minimum Spanning Tree:\n",
      "Edge: (0, 1) Weight: 2\n",
      "Edge: (1, 2) Weight: 3\n",
      "Edge: (0, 3) Weight: 6\n",
      "Edge: (1, 4) Weight: 5\n"
     ]
    }
   ],
   "source": [
    "import sys\n",
    "\n",
    "def min_key(vertices, key, mst_set):\n",
    "    min_val = sys.maxsize\n",
    "    min_index = None\n",
    "    for v in range(vertices):\n",
    "        if key[v] < min_val and not mst_set[v]:\n",
    "            min_val = key[v]\n",
    "            min_index = v\n",
    "    return min_index\n",
    "\n",
    "def prim_mst(graph):\n",
    "    vertices = len(graph)\n",
    "    parent = [None] * vertices\n",
    "    key = [sys.maxsize] * vertices\n",
    "    mst_set = [False] * vertices\n",
    "\n",
    "    key[0] = 0\n",
    "    parent[0] = -1\n",
    "\n",
    "    for _ in range(vertices):\n",
    "        u = min_key(vertices, key, mst_set)\n",
    "        mst_set[u] = True\n",
    "        for v in range(vertices):\n",
    "            if graph[u][v] and not mst_set[v] and graph[u][v] < key[v]:\n",
    "                parent[v] = u\n",
    "                key[v] = graph[u][v]\n",
    "\n",
    "    mst = []\n",
    "    for i in range(1, vertices):\n",
    "        mst.append((parent[i], i, graph[i][parent[i]]))\n",
    "    return mst\n",
    "\n",
    "# Example usage:\n",
    "graph = [\n",
    "    [0, 2, 0, 6, 0],\n",
    "    [2, 0, 3, 8, 5],\n",
    "    [0, 3, 0, 0, 7],\n",
    "    [6, 8, 0, 0, 9],\n",
    "    [0, 5, 7, 9, 0]\n",
    "]\n",
    "\n",
    "mst = prim_mst(graph)\n",
    "print(\"Minimum Spanning Tree:\")\n",
    "for edge in mst:\n",
    "    print(\"Edge: ({}, {}) Weight: {}\".format(edge[0], edge[1], edge[2]))\n"
   ]
  },
  {
   "cell_type": "code",
   "execution_count": null,
   "id": "f9844684",
   "metadata": {},
   "outputs": [],
   "source": []
  }
 ],
 "metadata": {
  "kernelspec": {
   "display_name": "Python 3 (ipykernel)",
   "language": "python",
   "name": "python3"
  },
  "language_info": {
   "codemirror_mode": {
    "name": "ipython",
    "version": 3
   },
   "file_extension": ".py",
   "mimetype": "text/x-python",
   "name": "python",
   "nbconvert_exporter": "python",
   "pygments_lexer": "ipython3",
   "version": "3.11.5"
  }
 },
 "nbformat": 4,
 "nbformat_minor": 5
}
