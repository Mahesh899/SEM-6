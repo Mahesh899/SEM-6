{
 "cells": [
  {
   "cell_type": "code",
   "execution_count": 8,
   "id": "2d5e67ff",
   "metadata": {},
   "outputs": [
    {
     "name": "stdout",
     "output_type": "stream",
     "text": [
      "Enter numbers in array with <space> between them: 2 5 7 3 11 6 \n",
      "[2, 3, 5, 6, 7, 11]\n"
     ]
    }
   ],
   "source": [
    "array= list(map(int,input('Enter numbers in array with <space> between them: ').split()))\n",
    "for i in range(len(array)):\n",
    "    temp=i\n",
    "    for j in range(i+1,len(array)):\n",
    "           if array[j]<array[temp]: temp=j\n",
    "    array[i],array[temp] = array[temp], array[i]\n",
    "print(array)"
   ]
  },
  {
   "cell_type": "code",
   "execution_count": null,
   "id": "399968d1",
   "metadata": {},
   "outputs": [],
   "source": []
  }
 ],
 "metadata": {
  "kernelspec": {
   "display_name": "Python 3 (ipykernel)",
   "language": "python",
   "name": "python3"
  },
  "language_info": {
   "codemirror_mode": {
    "name": "ipython",
    "version": 3
   },
   "file_extension": ".py",
   "mimetype": "text/x-python",
   "name": "python",
   "nbconvert_exporter": "python",
   "pygments_lexer": "ipython3",
   "version": "3.11.5"
  }
 },
 "nbformat": 4,
 "nbformat_minor": 5
}
