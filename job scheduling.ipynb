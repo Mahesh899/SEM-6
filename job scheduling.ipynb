{
 "cells": [
  {
   "cell_type": "code",
   "execution_count": 3,
   "id": "bd398495",
   "metadata": {},
   "outputs": [
    {
     "name": "stdout",
     "output_type": "stream",
     "text": [
      "Job Schedule:\n",
      "Job 2: Start Time=0, End Time=3\n",
      "Job 1: Start Time=3, End Time=5\n",
      "Job 3: Start Time=5, End Time=6\n"
     ]
    }
   ],
   "source": [
    "def job_scheduling(jobs):\n",
    "    # Sort jobs based on their deadlines\n",
    "    jobs.sort(key=lambda x: x[1])\n",
    "    \n",
    "    schedule = []\n",
    "    current_time = 0\n",
    "    \n",
    "    for job in jobs:\n",
    "        job_id, deadline, duration = job\n",
    "        if current_time + duration <= deadline:\n",
    "            schedule.append((job_id, current_time, current_time + duration))\n",
    "            current_time += duration\n",
    "\n",
    "    return schedule\n",
    "\n",
    "# Example usage:\n",
    "jobs = [\n",
    "    (1, 5, 2),  # Job ID, Deadline, Duration\n",
    "    (2, 4, 3),\n",
    "    (3, 7, 1),\n",
    "    (4, 6, 4),\n",
    "    (5, 2, 5)\n",
    "]\n",
    "\n",
    "schedule = job_scheduling(jobs)\n",
    "print(\"Job Schedule:\")\n",
    "for job in schedule:\n",
    "    print(\"Job {}: Start Time={}, End Time={}\".format(*job))"
   ]
  },
  {
   "cell_type": "code",
   "execution_count": null,
   "id": "0f0f5acf",
   "metadata": {},
   "outputs": [],
   "source": []
  }
 ],
 "metadata": {
  "kernelspec": {
   "display_name": "Python 3 (ipykernel)",
   "language": "python",
   "name": "python3"
  },
  "language_info": {
   "codemirror_mode": {
    "name": "ipython",
    "version": 3
   },
   "file_extension": ".py",
   "mimetype": "text/x-python",
   "name": "python",
   "nbconvert_exporter": "python",
   "pygments_lexer": "ipython3",
   "version": "3.11.5"
  }
 },
 "nbformat": 4,
 "nbformat_minor": 5
}
