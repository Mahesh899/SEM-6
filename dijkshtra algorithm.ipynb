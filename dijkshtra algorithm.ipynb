{
 "cells": [
  {
   "cell_type": "code",
   "execution_count": 2,
   "id": "994eb8bc",
   "metadata": {},
   "outputs": [
    {
     "name": "stdout",
     "output_type": "stream",
     "text": [
      "Minimum Spanning Tree:\n",
      "(0, 3, 1)\n",
      "(0, 1, 2)\n",
      "(0, 2, 3)\n"
     ]
    }
   ],
   "source": [
    "import heapq\n",
    "\n",
    "def prim(graph):\n",
    "    n = len(graph)\n",
    "    visited = [False] * n\n",
    "    min_span_tree = []\n",
    "\n",
    "    start_node = 0\n",
    "    visited[start_node] = True\n",
    "    edges = [(cost, start_node, neighbor) for neighbor, cost in graph[start_node]]\n",
    "    heapq.heapify(edges)\n",
    "\n",
    "    while edges:\n",
    "        cost, u, v = heapq.heappop(edges)\n",
    "        if not visited[v]:\n",
    "            visited[v] = True\n",
    "            min_span_tree.append((u, v, cost))\n",
    "            for neighbor, cost in graph[v]:\n",
    "                if not visited[neighbor]:\n",
    "                    heapq.heappush(edges, (cost, v, neighbor))\n",
    "\n",
    "    return min_span_tree\n",
    "\n",
    "# Example usage:\n",
    "graph = {\n",
    "    0: [(1, 2), (2, 3), (3, 1)],\n",
    "    1: [(0, 2), (2, 4), (3, 5)],\n",
    "    2: [(0, 3), (1, 4)],\n",
    "    3: [(0, 1), (1, 5)]\n",
    "}\n",
    "\n",
    "mst = prim(graph)\n",
    "print(\"Minimum Spanning Tree:\")\n",
    "for edge in mst:\n",
    "    print(edge)"
   ]
  },
  {
   "cell_type": "code",
   "execution_count": null,
   "id": "90d22d10",
   "metadata": {},
   "outputs": [],
   "source": []
  }
 ],
 "metadata": {
  "kernelspec": {
   "display_name": "Python 3 (ipykernel)",
   "language": "python",
   "name": "python3"
  },
  "language_info": {
   "codemirror_mode": {
    "name": "ipython",
    "version": 3
   },
   "file_extension": ".py",
   "mimetype": "text/x-python",
   "name": "python",
   "nbconvert_exporter": "python",
   "pygments_lexer": "ipython3",
   "version": "3.11.5"
  }
 },
 "nbformat": 4,
 "nbformat_minor": 5
}
