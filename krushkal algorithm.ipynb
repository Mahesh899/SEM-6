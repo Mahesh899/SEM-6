{
 "cells": [
  {
   "cell_type": "code",
   "execution_count": 4,
   "id": "69e6e5f5",
   "metadata": {},
   "outputs": [
    {
     "name": "stdout",
     "output_type": "stream",
     "text": [
      "Minimum Spanning Tree:\n",
      "Edge: (0, 1) Weight: 2\n",
      "Edge: (1, 2) Weight: 3\n",
      "Edge: (1, 4) Weight: 5\n",
      "Edge: (0, 3) Weight: 6\n"
     ]
    }
   ],
   "source": [
    "class UnionFind:\n",
    "    def __init__(self, n):\n",
    "        self.parent = list(range(n))\n",
    "        self.rank = [0] * n\n",
    "    \n",
    "    def find(self, x):\n",
    "        if self.parent[x] != x:\n",
    "            self.parent[x] = self.find(self.parent[x])\n",
    "        return self.parent[x]\n",
    "    \n",
    "    def union(self, x, y):\n",
    "        root_x = self.find(x)\n",
    "        root_y = self.find(y)\n",
    "        if root_x != root_y:\n",
    "            if self.rank[root_x] < self.rank[root_y]:\n",
    "                self.parent[root_x] = root_y\n",
    "            elif self.rank[root_x] > self.rank[root_y]:\n",
    "                self.parent[root_y] = root_x\n",
    "            else:\n",
    "                self.parent[root_y] = root_x\n",
    "                self.rank[root_x] += 1\n",
    "\n",
    "def kruskal(graph):\n",
    "    n = len(graph)\n",
    "    edges = []\n",
    "    for i in range(n):\n",
    "        for j in range(i + 1, n):\n",
    "            if graph[i][j] != 0:\n",
    "                edges.append((i, j, graph[i][j]))\n",
    "    edges.sort(key=lambda x: x[2])\n",
    "\n",
    "    uf = UnionFind(n)\n",
    "    min_spanning_tree = []\n",
    "\n",
    "    for edge in edges:\n",
    "        u, v, weight = edge\n",
    "        if uf.find(u) != uf.find(v):\n",
    "            uf.union(u, v)\n",
    "            min_spanning_tree.append(edge)\n",
    "\n",
    "    return min_spanning_tree\n",
    "\n",
    "# Example usage:\n",
    "graph = [\n",
    "    [0, 2, 0, 6, 0],\n",
    "    [2, 0, 3, 8, 5],\n",
    "    [0, 3, 0, 0, 7],\n",
    "    [6, 8, 0, 0, 9],\n",
    "    [0, 5, 7, 9, 0]\n",
    "]\n",
    "\n",
    "mst = kruskal(graph)\n",
    "print(\"Minimum Spanning Tree:\")\n",
    "for edge in mst:\n",
    "    print(\"Edge: ({}, {}) Weight: {}\".format(edge[0], edge[1], edge[2]))"
   ]
  },
  {
   "cell_type": "code",
   "execution_count": null,
   "id": "aaa339b5",
   "metadata": {},
   "outputs": [],
   "source": []
  }
 ],
 "metadata": {
  "kernelspec": {
   "display_name": "Python 3 (ipykernel)",
   "language": "python",
   "name": "python3"
  },
  "language_info": {
   "codemirror_mode": {
    "name": "ipython",
    "version": 3
   },
   "file_extension": ".py",
   "mimetype": "text/x-python",
   "name": "python",
   "nbconvert_exporter": "python",
   "pygments_lexer": "ipython3",
   "version": "3.11.5"
  }
 },
 "nbformat": 4,
 "nbformat_minor": 5
}
