{
 "cells": [
  {
   "cell_type": "code",
   "execution_count": 1,
   "id": "c2002ed1",
   "metadata": {},
   "outputs": [
    {
     "name": "stdout",
     "output_type": "stream",
     "text": [
      "Path found: [(0, 0), (0, 1), (0, 2), (1, 2), (1, 3), (2, 3), (3, 3), (4, 3), (4, 4)]\n"
     ]
    }
   ],
   "source": [
    "import heapq\n",
    "\n",
    "class Node:\n",
    "    def __init__(self, state, parent=None, g=0, h=0):\n",
    "        self.state = state\n",
    "        self.parent = parent\n",
    "        self.g = g  # Cost from start node to current node\n",
    "        self.h = h  # Heuristic cost from current node to goal node\n",
    "\n",
    "    def __lt__(self, other):\n",
    "        return (self.g + self.h) < (other.g + other.h)\n",
    "\n",
    "def astar(start_state, goal_state, heuristic, neighbors_func):\n",
    "    start_node = Node(start_state)\n",
    "    goal_node = Node(goal_state)\n",
    "    open_list = []\n",
    "    closed_set = set()\n",
    "\n",
    "    heapq.heappush(open_list, start_node)\n",
    "\n",
    "    while open_list:\n",
    "        current_node = heapq.heappop(open_list)\n",
    "\n",
    "        if current_node.state == goal_node.state:\n",
    "            path = []\n",
    "            while current_node:\n",
    "                path.append(current_node.state)\n",
    "                current_node = current_node.parent\n",
    "            return path[::-1]\n",
    "\n",
    "        closed_set.add(current_node.state)\n",
    "\n",
    "        for neighbor_state in neighbors_func(current_node.state):\n",
    "            if neighbor_state in closed_set:\n",
    "                continue\n",
    "\n",
    "            g = current_node.g + 1  # Assuming uniform cost for simplicity\n",
    "            h = heuristic(neighbor_state, goal_state)\n",
    "            neighbor_node = Node(neighbor_state, current_node, g, h)\n",
    "\n",
    "            if neighbor_node not in open_list:\n",
    "                heapq.heappush(open_list, neighbor_node)\n",
    "\n",
    "    return None\n",
    "\n",
    "def heuristic(state, goal_state):\n",
    "    # Simple Manhattan distance heuristic\n",
    "    return abs(state[0] - goal_state[0]) + abs(state[1] - goal_state[1])\n",
    "\n",
    "def neighbors(state):\n",
    "    x, y = state\n",
    "    return [(x+1, y), (x-1, y), (x, y+1), (x, y-1)]  # Assuming 4-connected grid\n",
    "\n",
    "# Example usage:\n",
    "start = (0, 0)\n",
    "goal = (4, 4)\n",
    "path = astar(start, goal, heuristic, neighbors)\n",
    "print(\"Path found:\", path)"
   ]
  },
  {
   "cell_type": "code",
   "execution_count": null,
   "id": "abd946a7",
   "metadata": {},
   "outputs": [],
   "source": []
  }
 ],
 "metadata": {
  "kernelspec": {
   "display_name": "Python 3 (ipykernel)",
   "language": "python",
   "name": "python3"
  },
  "language_info": {
   "codemirror_mode": {
    "name": "ipython",
    "version": 3
   },
   "file_extension": ".py",
   "mimetype": "text/x-python",
   "name": "python",
   "nbconvert_exporter": "python",
   "pygments_lexer": "ipython3",
   "version": "3.11.5"
  }
 },
 "nbformat": 4,
 "nbformat_minor": 5
}
