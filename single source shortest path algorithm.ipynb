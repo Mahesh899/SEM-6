{
 "cells": [
  {
   "cell_type": "code",
   "execution_count": 9,
   "id": "a0f31f9f",
   "metadata": {},
   "outputs": [
    {
     "name": "stdout",
     "output_type": "stream",
     "text": [
      "Shortest distances from source A : {'A': 0, 'B': 1, 'C': 3, 'D': 4}\n"
     ]
    }
   ],
   "source": [
    "import heapq\n",
    "\n",
    "def dijkstra(graph, source):\n",
    "    # Initialize distances with infinity and source with 0\n",
    "    distances = {node: float('inf') for node in graph}\n",
    "    distances[source] = 0\n",
    "    \n",
    "    # Priority queue to store (distance, node) pairs\n",
    "    pq = [(0, source)]\n",
    "    \n",
    "    while pq:\n",
    "        # Extract vertex with the smallest distance\n",
    "        current_distance, current_node = heapq.heappop(pq)\n",
    "        \n",
    "        # Visit neighbors\n",
    "        for neighbor, weight in graph[current_node].items():\n",
    "            distance = current_distance + weight\n",
    "            if distance < distances[neighbor]:\n",
    "                distances[neighbor] = distance\n",
    "                heapq.heappush(pq, (distance, neighbor))\n",
    "    \n",
    "    return distances\n",
    "graph = {\n",
    "    'A': {'B': 1, 'C': 4},\n",
    "    'B': {'A': 1, 'C': 2, 'D': 5},\n",
    "    'C': {'A': 4, 'B': 2, 'D': 1},\n",
    "    'D': {'B': 5, 'C': 1}\n",
    "}\n",
    "\n",
    "source = 'A'\n",
    "shortest_distances = dijkstra(graph, source)\n",
    "print(\"Shortest distances from source\", source, \":\", shortest_distances)"
   ]
  },
  {
   "cell_type": "code",
   "execution_count": null,
   "id": "eaba3fd0",
   "metadata": {},
   "outputs": [],
   "source": []
  }
 ],
 "metadata": {
  "kernelspec": {
   "display_name": "Python 3 (ipykernel)",
   "language": "python",
   "name": "python3"
  },
  "language_info": {
   "codemirror_mode": {
    "name": "ipython",
    "version": 3
   },
   "file_extension": ".py",
   "mimetype": "text/x-python",
   "name": "python",
   "nbconvert_exporter": "python",
   "pygments_lexer": "ipython3",
   "version": "3.11.5"
  }
 },
 "nbformat": 4,
 "nbformat_minor": 5
}
